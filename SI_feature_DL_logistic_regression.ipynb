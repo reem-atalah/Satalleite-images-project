{
  "nbformat": 4,
  "nbformat_minor": 0,
  "metadata": {
    "colab": {
      "provenance": [],
      "gpuType": "T4"
    },
    "kernelspec": {
      "name": "python3",
      "display_name": "Python 3"
    },
    "language_info": {
      "name": "python"
    },
    "accelerator": "GPU",
    "gpuClass": "standard"
  },
  "cells": [
    {
      "cell_type": "code",
      "source": [
        "from google.colab import drive\n",
        "\n",
        "drive.mount('/content/drive', force_remount=True)"
      ],
      "metadata": {
        "colab": {
          "base_uri": "https://localhost:8080/"
        },
        "id": "-w46Tbc2LUK2",
        "outputId": "131384a6-d021-44e0-feaf-9dd72cd3b83e"
      },
      "execution_count": 2,
      "outputs": [
        {
          "output_type": "stream",
          "name": "stdout",
          "text": [
            "Mounted at /content/drive\n"
          ]
        }
      ]
    },
    {
      "cell_type": "code",
      "source": [
        "import tensorflow as tf\n",
        "import numpy as np\n",
        "from sklearn.linear_model import LogisticRegression\n",
        "from sklearn.metrics import accuracy_score, f1_score, confusion_matrix\n",
        "\n",
        "# Load the training set of images and labels\n",
        "train_dataset = tf.keras.preprocessing.image_dataset_from_directory(\n",
        "    '/content/drive/MyDrive/SI_flood_dataset/dataset/SI_flood_dataset_split/train_eq',\n",
        "    image_size=(256, 256),\n",
        "    batch_size=32,\n",
        "    label_mode='categorical',\n",
        ")\n",
        "\n",
        "# Preprocess the images in the training set\n",
        "train_dataset = train_dataset.map(\n",
        "    lambda x, y: (tf.image.per_image_standardization(x), y)\n",
        ")\n",
        "\n",
        "# Load the validation set of images and labels\n",
        "valid_dataset = tf.keras.preprocessing.image_dataset_from_directory(\n",
        "    '/content/drive/MyDrive/SI_flood_dataset/dataset/SI_flood_dataset_split/val_eq',\n",
        "    image_size=(256, 256),\n",
        "    batch_size=32,\n",
        "    label_mode='categorical',\n",
        ")\n",
        "\n",
        "# Preprocess the images in the validation set\n",
        "valid_dataset = valid_dataset.map(\n",
        "    lambda x, y: (tf.image.per_image_standardization(x), y)\n",
        ")\n",
        "\n",
        "# Define the CNN architecture\n",
        "model = tf.keras.applications.ResNet50(\n",
        "    include_top=False,\n",
        "    input_shape=(256, 256, 3),\n",
        "    pooling='avg'\n",
        ")\n",
        "\n",
        "# Extract features from the images in the training set using the trained CNN\n",
        "train_features = []\n",
        "train_labels = []\n",
        "for images, labels in train_dataset:\n",
        "    features = model.predict(images)\n",
        "    train_features.append(features)\n",
        "    train_labels.append(labels)\n",
        "train_features = np.concatenate(train_features, axis=0)\n",
        "train_labels = np.concatenate(train_labels, axis=0)\n",
        "\n",
        "# Convert the 2-dimensional label matrix into a 1-dimensional label vector\n",
        "train_labels = np.argmax(train_labels, axis=1)\n",
        "\n",
        "# Train a logistic regression model on the features and labels in the training set\n",
        "logistic_model = LogisticRegression()\n",
        "logistic_model.fit(train_features, train_labels)\n",
        "\n",
        "# Extract features from the images in the validation set using the trained CNN\n",
        "valid_features = []\n",
        "valid_labels = []\n",
        "for images, labels in valid_dataset:\n",
        "    features = model.predict(images)\n",
        "    valid_features.append(features)\n",
        "    valid_labels.append(labels)\n",
        "valid_features = np.concatenate(valid_features, axis=0)\n",
        "valid_labels = np.concatenate(valid_labels, axis=0)\n",
        "\n",
        "# Convert the 2-dimensional label matrix into a 1-dimensional label vector\n",
        "valid_labels = np.argmax(valid_labels, axis=1)\n",
        "\n",
        "# Make predictions on the validation set using the logistic regression model\n",
        "y_pred = logistic_model.predict(valid_features)\n",
        "\n",
        "# Evaluate the model using accuracy, F1-score, omission, and commission metrics on the validation set\n",
        "acc = accuracy_score(valid_labels, y_pred)\n",
        "f1 = f1_score(valid_labels, y_pred, average='weighted')\n",
        "tn, fp, fn, tp = confusion_matrix(valid_labels, y_pred).ravel()\n",
        "omission = fn / (fn + tp)\n",
        "commission = fp / (fp + tn)\n",
        "\n",
        "print('Accuracy:', acc)\n",
        "print('F1-score:', f1)\n",
        "print('Omission:', omission)\n",
        "print('Commission:', commission)"
      ],
      "metadata": {
        "colab": {
          "base_uri": "https://localhost:8080/"
        },
        "id": "xit_u0HIQ-7-",
        "outputId": "b58549d3-137b-4fba-80d4-46f368cc85f3"
      },
      "execution_count": 6,
      "outputs": [
        {
          "output_type": "stream",
          "name": "stdout",
          "text": [
            "Found 736 files belonging to 2 classes.\n",
            "Found 186 files belonging to 2 classes.\n",
            "1/1 [==============================] - 2s 2s/step\n",
            "1/1 [==============================] - 0s 48ms/step\n",
            "1/1 [==============================] - 0s 80ms/step\n",
            "1/1 [==============================] - 0s 77ms/step\n",
            "1/1 [==============================] - 0s 61ms/step\n",
            "1/1 [==============================] - 0s 58ms/step\n",
            "1/1 [==============================] - 0s 82ms/step\n",
            "1/1 [==============================] - 0s 59ms/step\n",
            "1/1 [==============================] - 0s 73ms/step\n",
            "1/1 [==============================] - 0s 40ms/step\n",
            "1/1 [==============================] - 0s 92ms/step\n",
            "1/1 [==============================] - 0s 68ms/step\n",
            "1/1 [==============================] - 0s 42ms/step\n",
            "1/1 [==============================] - 0s 46ms/step\n",
            "1/1 [==============================] - 0s 35ms/step\n",
            "1/1 [==============================] - 0s 38ms/step\n",
            "1/1 [==============================] - 0s 35ms/step\n",
            "1/1 [==============================] - 0s 39ms/step\n",
            "1/1 [==============================] - 0s 34ms/step\n",
            "1/1 [==============================] - 0s 47ms/step\n",
            "1/1 [==============================] - 0s 32ms/step\n",
            "1/1 [==============================] - 0s 51ms/step\n",
            "1/1 [==============================] - 0s 48ms/step\n"
          ]
        },
        {
          "output_type": "stream",
          "name": "stderr",
          "text": [
            "/usr/local/lib/python3.10/dist-packages/sklearn/linear_model/_logistic.py:458: ConvergenceWarning: lbfgs failed to converge (status=1):\n",
            "STOP: TOTAL NO. of ITERATIONS REACHED LIMIT.\n",
            "\n",
            "Increase the number of iterations (max_iter) or scale the data as shown in:\n",
            "    https://scikit-learn.org/stable/modules/preprocessing.html\n",
            "Please also refer to the documentation for alternative solver options:\n",
            "    https://scikit-learn.org/stable/modules/linear_model.html#logistic-regression\n",
            "  n_iter_i = _check_optimize_result(\n"
          ]
        },
        {
          "output_type": "stream",
          "name": "stdout",
          "text": [
            "1/1 [==============================] - 0s 35ms/step\n",
            "1/1 [==============================] - 0s 39ms/step\n",
            "1/1 [==============================] - 0s 32ms/step\n",
            "1/1 [==============================] - 0s 33ms/step\n",
            "1/1 [==============================] - 0s 34ms/step\n",
            "1/1 [==============================] - 1s 850ms/step\n",
            "Accuracy: 0.9301075268817204\n",
            "F1-score: 0.9301055065760948\n",
            "Omission: 0.06451612903225806\n",
            "Commission: 0.07526881720430108\n"
          ]
        }
      ]
    },
    {
      "cell_type": "code",
      "source": [],
      "metadata": {
        "id": "b8im49etR2QZ"
      },
      "execution_count": null,
      "outputs": []
    }
  ]
}