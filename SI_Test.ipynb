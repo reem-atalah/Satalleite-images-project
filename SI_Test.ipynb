{
  "nbformat": 4,
  "nbformat_minor": 0,
  "metadata": {
    "colab": {
      "provenance": [],
      "gpuType": "T4"
    },
    "kernelspec": {
      "name": "python3",
      "display_name": "Python 3"
    },
    "language_info": {
      "name": "python"
    },
    "accelerator": "GPU",
    "gpuClass": "standard"
  },
  "cells": [
    {
      "cell_type": "code",
      "execution_count": 1,
      "metadata": {
        "id": "MI71reJcsOLX"
      },
      "outputs": [],
      "source": [
        "import numpy as np\n",
        "import tensorflow as tf\n",
        "from tensorflow.keras.models import load_model\n",
        "import os\n",
        "from PIL import Image\n",
        "\n",
        "import gdown"
      ]
    },
    {
      "cell_type": "code",
      "source": [
        "# Define the path to the saved model\n",
        "model_path = './model_checkpoint.h5'\n",
        "\n",
        "url = \"https://drive.google.com/file/d/1-6zJNk1QbjxKjp7uP2v_X-JVef7rV5-v\"\n",
        "\n",
        "gdown.download(url, output='model_checkpoint.h5', quiet=False)\n",
        "\n",
        "# Load the model\n",
        "loaded_model = load_model(model_path)"
      ],
      "metadata": {
        "id": "gS9XJsVCiM-7"
      },
      "execution_count": 3,
      "outputs": []
    },
    {
      "cell_type": "code",
      "source": [
        "def predict(path):\n",
        "    data_path = path ## TODOO: Change here\n",
        "\n",
        "    image_paths = os.listdir(data_path)\n",
        "\n",
        "    image_paths.sort(key = lambda x: int(x.split('.')[0]))\n",
        "\n",
        "    imgs = []\n",
        "\n",
        "    for file in image_paths:\n",
        "        img = Image.open(f'{data_path}/{file}')\n",
        "        img = img.resize((512, 512))\n",
        "        img = np.array(img)\n",
        "        imgs.append(img)\n",
        "\n",
        "    imgs = np.array(imgs)\n",
        "\n",
        "    predictions = loaded_model.predict(imgs)\n",
        "\n",
        "    with open('Team 20.txt', 'w') as f:\n",
        "        for res in predictions:\n",
        "            if res < 0.5:\n",
        "                f.write(\"0\\n\")\n",
        "            else:\n",
        "                f.write(\"1\\n\")\n",
        "    \n"
      ],
      "metadata": {
        "id": "BYsaJyVWn6tl"
      },
      "execution_count": null,
      "outputs": []
    }
  ]
}